{
 "cells": [
  {
   "cell_type": "code",
   "execution_count": 1,
   "id": "05f4a9b8",
   "metadata": {},
   "outputs": [],
   "source": [
    "import numpy as np\n",
    "import matplotlib.pyplot as plt\n",
    "import pandas as pd"
   ]
  },
  {
   "cell_type": "code",
   "execution_count": 2,
   "id": "2ff1d177",
   "metadata": {},
   "outputs": [
    {
     "data": {
      "text/html": [
       "<div>\n",
       "<style scoped>\n",
       "    .dataframe tbody tr th:only-of-type {\n",
       "        vertical-align: middle;\n",
       "    }\n",
       "\n",
       "    .dataframe tbody tr th {\n",
       "        vertical-align: top;\n",
       "    }\n",
       "\n",
       "    .dataframe thead th {\n",
       "        text-align: right;\n",
       "    }\n",
       "</style>\n",
       "<table border=\"1\" class=\"dataframe\">\n",
       "  <thead>\n",
       "    <tr style=\"text-align: right;\">\n",
       "      <th></th>\n",
       "      <th>employee_id</th>\n",
       "      <th>name</th>\n",
       "      <th>job_title</th>\n",
       "      <th>department</th>\n",
       "      <th>email</th>\n",
       "      <th>phone_number</th>\n",
       "      <th>date_of_hiring</th>\n",
       "      <th>salary</th>\n",
       "    </tr>\n",
       "  </thead>\n",
       "  <tbody>\n",
       "    <tr>\n",
       "      <th>0</th>\n",
       "      <td>396941</td>\n",
       "      <td>Tammy Valdez</td>\n",
       "      <td>Administrator, charities/voluntary organisations</td>\n",
       "      <td>supply-chains</td>\n",
       "      <td>oanderson@gibson.com</td>\n",
       "      <td>512-507-0524x1231</td>\n",
       "      <td>2019-05-12</td>\n",
       "      <td>77744</td>\n",
       "    </tr>\n",
       "    <tr>\n",
       "      <th>1</th>\n",
       "      <td>289507</td>\n",
       "      <td>Debbie Castaneda</td>\n",
       "      <td>Designer, blown glass/stained glass</td>\n",
       "      <td>deliverables</td>\n",
       "      <td>davidbrown@krueger-harper.com</td>\n",
       "      <td>(590)110-8719x53241</td>\n",
       "      <td>2013-12-18</td>\n",
       "      <td>85059</td>\n",
       "    </tr>\n",
       "    <tr>\n",
       "      <th>2</th>\n",
       "      <td>500857</td>\n",
       "      <td>James Rodriguez</td>\n",
       "      <td>Psychologist, counselling</td>\n",
       "      <td>users</td>\n",
       "      <td>laurenwilliams@knapp.com</td>\n",
       "      <td>(983)416-3026x6694</td>\n",
       "      <td>2014-05-31</td>\n",
       "      <td>86053</td>\n",
       "    </tr>\n",
       "    <tr>\n",
       "      <th>3</th>\n",
       "      <td>501196</td>\n",
       "      <td>Hunter Brown</td>\n",
       "      <td>Data scientist</td>\n",
       "      <td>action-items</td>\n",
       "      <td>kimberly31@anderson.com</td>\n",
       "      <td>300-921-0488</td>\n",
       "      <td>2022-02-03</td>\n",
       "      <td>59217</td>\n",
       "    </tr>\n",
       "    <tr>\n",
       "      <th>4</th>\n",
       "      <td>325944</td>\n",
       "      <td>Jamie Williams</td>\n",
       "      <td>Production manager</td>\n",
       "      <td>communities</td>\n",
       "      <td>david13@smith.com</td>\n",
       "      <td>741.564.4209x04454</td>\n",
       "      <td>2021-11-23</td>\n",
       "      <td>62276</td>\n",
       "    </tr>\n",
       "    <tr>\n",
       "      <th>...</th>\n",
       "      <td>...</td>\n",
       "      <td>...</td>\n",
       "      <td>...</td>\n",
       "      <td>...</td>\n",
       "      <td>...</td>\n",
       "      <td>...</td>\n",
       "      <td>...</td>\n",
       "      <td>...</td>\n",
       "    </tr>\n",
       "    <tr>\n",
       "      <th>1995</th>\n",
       "      <td>994876</td>\n",
       "      <td>Michael Beck</td>\n",
       "      <td>Human resources officer</td>\n",
       "      <td>functionalities</td>\n",
       "      <td>nicholsonjoseph@hood-spencer.com</td>\n",
       "      <td>+1-690-355-9016x164</td>\n",
       "      <td>2021-06-03</td>\n",
       "      <td>97006</td>\n",
       "    </tr>\n",
       "    <tr>\n",
       "      <th>1996</th>\n",
       "      <td>996490</td>\n",
       "      <td>Alexandra Fuller</td>\n",
       "      <td>Merchandiser, retail</td>\n",
       "      <td>applications</td>\n",
       "      <td>caroline74@rush-blankenship.com</td>\n",
       "      <td>(150)181-0844</td>\n",
       "      <td>2018-01-30</td>\n",
       "      <td>58635</td>\n",
       "    </tr>\n",
       "    <tr>\n",
       "      <th>1997</th>\n",
       "      <td>409079</td>\n",
       "      <td>Juan Campbell</td>\n",
       "      <td>Training and development officer</td>\n",
       "      <td>functionalities</td>\n",
       "      <td>anthony31@alvarez.biz</td>\n",
       "      <td>001-117-571-6559x6177</td>\n",
       "      <td>2014-12-04</td>\n",
       "      <td>136633</td>\n",
       "    </tr>\n",
       "    <tr>\n",
       "      <th>1998</th>\n",
       "      <td>329310</td>\n",
       "      <td>Jessica Howard</td>\n",
       "      <td>Press photographer</td>\n",
       "      <td>e-business</td>\n",
       "      <td>joshua51@mitchell.net</td>\n",
       "      <td>273.080.8744</td>\n",
       "      <td>2019-03-02</td>\n",
       "      <td>124931</td>\n",
       "    </tr>\n",
       "    <tr>\n",
       "      <th>1999</th>\n",
       "      <td>461268</td>\n",
       "      <td>Albert Lang</td>\n",
       "      <td>Mining engineer</td>\n",
       "      <td>users</td>\n",
       "      <td>kathyfrye@washington-johnson.net</td>\n",
       "      <td>+1-934-378-1416</td>\n",
       "      <td>2014-09-16</td>\n",
       "      <td>104141</td>\n",
       "    </tr>\n",
       "  </tbody>\n",
       "</table>\n",
       "<p>2000 rows × 8 columns</p>\n",
       "</div>"
      ],
      "text/plain": [
       "      employee_id              name  \\\n",
       "0          396941      Tammy Valdez   \n",
       "1          289507  Debbie Castaneda   \n",
       "2          500857   James Rodriguez   \n",
       "3          501196      Hunter Brown   \n",
       "4          325944    Jamie Williams   \n",
       "...           ...               ...   \n",
       "1995       994876      Michael Beck   \n",
       "1996       996490  Alexandra Fuller   \n",
       "1997       409079     Juan Campbell   \n",
       "1998       329310    Jessica Howard   \n",
       "1999       461268       Albert Lang   \n",
       "\n",
       "                                             job_title       department  \\\n",
       "0     Administrator, charities/voluntary organisations    supply-chains   \n",
       "1                  Designer, blown glass/stained glass     deliverables   \n",
       "2                            Psychologist, counselling            users   \n",
       "3                                       Data scientist     action-items   \n",
       "4                                   Production manager      communities   \n",
       "...                                                ...              ...   \n",
       "1995                           Human resources officer  functionalities   \n",
       "1996                              Merchandiser, retail     applications   \n",
       "1997                  Training and development officer  functionalities   \n",
       "1998                                Press photographer       e-business   \n",
       "1999                                   Mining engineer            users   \n",
       "\n",
       "                                 email           phone_number date_of_hiring  \\\n",
       "0                 oanderson@gibson.com      512-507-0524x1231     2019-05-12   \n",
       "1        davidbrown@krueger-harper.com    (590)110-8719x53241     2013-12-18   \n",
       "2             laurenwilliams@knapp.com     (983)416-3026x6694     2014-05-31   \n",
       "3              kimberly31@anderson.com           300-921-0488     2022-02-03   \n",
       "4                    david13@smith.com     741.564.4209x04454     2021-11-23   \n",
       "...                                ...                    ...            ...   \n",
       "1995  nicholsonjoseph@hood-spencer.com    +1-690-355-9016x164     2021-06-03   \n",
       "1996   caroline74@rush-blankenship.com          (150)181-0844     2018-01-30   \n",
       "1997             anthony31@alvarez.biz  001-117-571-6559x6177     2014-12-04   \n",
       "1998             joshua51@mitchell.net           273.080.8744     2019-03-02   \n",
       "1999  kathyfrye@washington-johnson.net        +1-934-378-1416     2014-09-16   \n",
       "\n",
       "      salary  \n",
       "0      77744  \n",
       "1      85059  \n",
       "2      86053  \n",
       "3      59217  \n",
       "4      62276  \n",
       "...      ...  \n",
       "1995   97006  \n",
       "1996   58635  \n",
       "1997  136633  \n",
       "1998  124931  \n",
       "1999  104141  \n",
       "\n",
       "[2000 rows x 8 columns]"
      ]
     },
     "execution_count": 2,
     "metadata": {},
     "output_type": "execute_result"
    }
   ],
   "source": [
    "dataset = pd.read_csv('Data.csv')\n",
    "dataset"
   ]
  },
  {
   "cell_type": "code",
   "execution_count": 3,
   "id": "5eb67a7d",
   "metadata": {},
   "outputs": [
    {
     "data": {
      "text/html": [
       "<div>\n",
       "<style scoped>\n",
       "    .dataframe tbody tr th:only-of-type {\n",
       "        vertical-align: middle;\n",
       "    }\n",
       "\n",
       "    .dataframe tbody tr th {\n",
       "        vertical-align: top;\n",
       "    }\n",
       "\n",
       "    .dataframe thead th {\n",
       "        text-align: right;\n",
       "    }\n",
       "</style>\n",
       "<table border=\"1\" class=\"dataframe\">\n",
       "  <thead>\n",
       "    <tr style=\"text-align: right;\">\n",
       "      <th></th>\n",
       "      <th>job_title</th>\n",
       "      <th>department</th>\n",
       "      <th>salary</th>\n",
       "    </tr>\n",
       "  </thead>\n",
       "  <tbody>\n",
       "    <tr>\n",
       "      <th>0</th>\n",
       "      <td>Administrator, charities/voluntary organisations</td>\n",
       "      <td>supply-chains</td>\n",
       "      <td>77744</td>\n",
       "    </tr>\n",
       "    <tr>\n",
       "      <th>1</th>\n",
       "      <td>Designer, blown glass/stained glass</td>\n",
       "      <td>deliverables</td>\n",
       "      <td>85059</td>\n",
       "    </tr>\n",
       "    <tr>\n",
       "      <th>2</th>\n",
       "      <td>Psychologist, counselling</td>\n",
       "      <td>users</td>\n",
       "      <td>86053</td>\n",
       "    </tr>\n",
       "    <tr>\n",
       "      <th>3</th>\n",
       "      <td>Data scientist</td>\n",
       "      <td>action-items</td>\n",
       "      <td>59217</td>\n",
       "    </tr>\n",
       "    <tr>\n",
       "      <th>4</th>\n",
       "      <td>Production manager</td>\n",
       "      <td>communities</td>\n",
       "      <td>62276</td>\n",
       "    </tr>\n",
       "    <tr>\n",
       "      <th>...</th>\n",
       "      <td>...</td>\n",
       "      <td>...</td>\n",
       "      <td>...</td>\n",
       "    </tr>\n",
       "    <tr>\n",
       "      <th>1995</th>\n",
       "      <td>Human resources officer</td>\n",
       "      <td>functionalities</td>\n",
       "      <td>97006</td>\n",
       "    </tr>\n",
       "    <tr>\n",
       "      <th>1996</th>\n",
       "      <td>Merchandiser, retail</td>\n",
       "      <td>applications</td>\n",
       "      <td>58635</td>\n",
       "    </tr>\n",
       "    <tr>\n",
       "      <th>1997</th>\n",
       "      <td>Training and development officer</td>\n",
       "      <td>functionalities</td>\n",
       "      <td>136633</td>\n",
       "    </tr>\n",
       "    <tr>\n",
       "      <th>1998</th>\n",
       "      <td>Press photographer</td>\n",
       "      <td>e-business</td>\n",
       "      <td>124931</td>\n",
       "    </tr>\n",
       "    <tr>\n",
       "      <th>1999</th>\n",
       "      <td>Mining engineer</td>\n",
       "      <td>users</td>\n",
       "      <td>104141</td>\n",
       "    </tr>\n",
       "  </tbody>\n",
       "</table>\n",
       "<p>2000 rows × 3 columns</p>\n",
       "</div>"
      ],
      "text/plain": [
       "                                             job_title       department  \\\n",
       "0     Administrator, charities/voluntary organisations    supply-chains   \n",
       "1                  Designer, blown glass/stained glass     deliverables   \n",
       "2                            Psychologist, counselling            users   \n",
       "3                                       Data scientist     action-items   \n",
       "4                                   Production manager      communities   \n",
       "...                                                ...              ...   \n",
       "1995                           Human resources officer  functionalities   \n",
       "1996                              Merchandiser, retail     applications   \n",
       "1997                  Training and development officer  functionalities   \n",
       "1998                                Press photographer       e-business   \n",
       "1999                                   Mining engineer            users   \n",
       "\n",
       "      salary  \n",
       "0      77744  \n",
       "1      85059  \n",
       "2      86053  \n",
       "3      59217  \n",
       "4      62276  \n",
       "...      ...  \n",
       "1995   97006  \n",
       "1996   58635  \n",
       "1997  136633  \n",
       "1998  124931  \n",
       "1999  104141  \n",
       "\n",
       "[2000 rows x 3 columns]"
      ]
     },
     "execution_count": 3,
     "metadata": {},
     "output_type": "execute_result"
    }
   ],
   "source": [
    "# Memilih kolom yang akan digunakan sebagai DataFrame\n",
    "\n",
    "data = dataset[[\"job_title\", \"department\", \"salary\"]]\n",
    "data"
   ]
  },
  {
   "cell_type": "code",
   "execution_count": 4,
   "id": "32771d7d",
   "metadata": {},
   "outputs": [
    {
     "name": "stdout",
     "output_type": "stream",
     "text": [
      "<class 'pandas.core.frame.DataFrame'>\n",
      "RangeIndex: 2000 entries, 0 to 1999\n",
      "Data columns (total 3 columns):\n",
      " #   Column      Non-Null Count  Dtype \n",
      "---  ------      --------------  ----- \n",
      " 0   job_title   2000 non-null   object\n",
      " 1   department  2000 non-null   object\n",
      " 2   salary      2000 non-null   int64 \n",
      "dtypes: int64(1), object(2)\n",
      "memory usage: 47.0+ KB\n"
     ]
    }
   ],
   "source": [
    "data.info()"
   ]
  },
  {
   "cell_type": "code",
   "execution_count": 5,
   "id": "4aaf74c4",
   "metadata": {},
   "outputs": [
    {
     "data": {
      "text/plain": [
       "0"
      ]
     },
     "execution_count": 5,
     "metadata": {},
     "output_type": "execute_result"
    }
   ],
   "source": [
    "# Mengecek apakah ada NaN atau missing values\n",
    "\n",
    "data.isna().sum().sum()"
   ]
  },
  {
   "cell_type": "code",
   "execution_count": 6,
   "id": "9e46db7d",
   "metadata": {},
   "outputs": [],
   "source": [
    "# Memisahkan data categorical dan int\n",
    "\n",
    "x = data.iloc[:, :-1].values\n",
    "y = data.iloc[:, -1].values"
   ]
  },
  {
   "cell_type": "code",
   "execution_count": 7,
   "id": "a328dd65",
   "metadata": {},
   "outputs": [
    {
     "name": "stdout",
     "output_type": "stream",
     "text": [
      "[['Administrator, charities/voluntary organisations' 'supply-chains']\n",
      " ['Designer, blown glass/stained glass' 'deliverables']\n",
      " ['Psychologist, counselling' 'users']\n",
      " ...\n",
      " ['Training and development officer' 'functionalities']\n",
      " ['Press photographer' 'e-business']\n",
      " ['Mining engineer' 'users']]\n"
     ]
    }
   ],
   "source": [
    "print(x)"
   ]
  },
  {
   "cell_type": "code",
   "execution_count": 8,
   "id": "22671408",
   "metadata": {},
   "outputs": [
    {
     "name": "stdout",
     "output_type": "stream",
     "text": [
      "[ 77744  85059  86053 ... 136633 124931 104141]\n"
     ]
    }
   ],
   "source": [
    "print(y)"
   ]
  },
  {
   "cell_type": "code",
   "execution_count": 9,
   "id": "f9e37846",
   "metadata": {},
   "outputs": [],
   "source": [
    "from sklearn.compose import ColumnTransformer\n",
    "from sklearn.preprocessing import OneHotEncoder\n",
    "ct = ColumnTransformer(transformers=[('encoder', OneHotEncoder(), [0, 1])], remainder='passthrough', sparse_threshold=0)\n",
    "x = np.array(ct.fit_transform(x))"
   ]
  },
  {
   "cell_type": "code",
   "execution_count": 10,
   "id": "9925fc04",
   "metadata": {},
   "outputs": [
    {
     "name": "stdout",
     "output_type": "stream",
     "text": [
      "[[0. 0. 0. ... 0. 0. 0.]\n",
      " [0. 0. 0. ... 0. 0. 0.]\n",
      " [0. 0. 0. ... 1. 0. 0.]\n",
      " ...\n",
      " [0. 0. 0. ... 0. 0. 0.]\n",
      " [0. 0. 0. ... 0. 0. 0.]\n",
      " [0. 0. 0. ... 1. 0. 0.]]\n"
     ]
    }
   ],
   "source": [
    "print(x)"
   ]
  },
  {
   "cell_type": "code",
   "execution_count": 11,
   "id": "85552504",
   "metadata": {},
   "outputs": [],
   "source": [
    "from sklearn.model_selection import train_test_split\n",
    "x_train, x_test, y_train, y_test = train_test_split(x, y, test_size=0.2, random_state=1)"
   ]
  },
  {
   "cell_type": "code",
   "execution_count": 12,
   "id": "5a30266b",
   "metadata": {},
   "outputs": [
    {
     "name": "stdout",
     "output_type": "stream",
     "text": [
      "[[0. 0. 0. ... 0. 0. 0.]\n",
      " [0. 0. 0. ... 0. 0. 0.]\n",
      " [0. 0. 0. ... 0. 0. 0.]\n",
      " ...\n",
      " [0. 0. 0. ... 0. 0. 0.]\n",
      " [0. 0. 0. ... 0. 0. 0.]\n",
      " [0. 0. 0. ... 0. 0. 0.]]\n"
     ]
    }
   ],
   "source": [
    "print(x_train)"
   ]
  },
  {
   "cell_type": "code",
   "execution_count": 13,
   "id": "ff9128dd",
   "metadata": {},
   "outputs": [
    {
     "name": "stdout",
     "output_type": "stream",
     "text": [
      "[[0. 0. 0. ... 0. 0. 0.]\n",
      " [0. 0. 0. ... 0. 0. 0.]\n",
      " [0. 0. 0. ... 0. 0. 0.]\n",
      " ...\n",
      " [0. 0. 0. ... 0. 0. 0.]\n",
      " [0. 1. 0. ... 0. 0. 0.]\n",
      " [0. 0. 0. ... 0. 0. 0.]]\n"
     ]
    }
   ],
   "source": [
    "print(x_test)"
   ]
  },
  {
   "cell_type": "code",
   "execution_count": 14,
   "id": "3b642361",
   "metadata": {},
   "outputs": [
    {
     "name": "stdout",
     "output_type": "stream",
     "text": [
      "[ 77744  92026 122972 ...  63122  57529 145238]\n"
     ]
    }
   ],
   "source": [
    "print(y_train)"
   ]
  },
  {
   "cell_type": "code",
   "execution_count": 15,
   "id": "bd660994",
   "metadata": {},
   "outputs": [
    {
     "name": "stdout",
     "output_type": "stream",
     "text": [
      "[148074 146471  68483 138854  76756  93986 137478 121938  48827  86301\n",
      " 127750 129307 100187  83339 128708 108980 103392  84429  70974  61096\n",
      " 148188 100839 101171 123865  54960  46790  93211 146803 112334  54342\n",
      " 127349  67798 104352  53998  38305  80295  37653 139544  49953 124978\n",
      "  57977  43717  58463  96379  43020  93791  90181  50949 116261 126091\n",
      "  96687  86830  73557 139210 128717  87725  30428  34268 121596  77622\n",
      "  50793 100957  88551  33648 103980  38985 141338 101613 136819  31567\n",
      "  88974  48764 135749  74937 141706  66511  48153  49601  64125 134757\n",
      "  98184  63038  98958  99347  87248  36858  33168 120863 133844 121144\n",
      "  40330 133854  59419  33148  37764 143118  98866 111570  37721 123350\n",
      "  97129  52260  44571  60928  94128 146692  34757 134204  37400  91175\n",
      " 128396  38254 123255  78253  65502 144882  85118 135131 121371 133443\n",
      " 104141 139899 128676 129216  66315  52376 107504  93998  61445 135924\n",
      "  55337 105332  44017  47577 143819  48258 143838 144852 106885 132801\n",
      " 139616 144261 114977 106836 120474 125919  45941 126058 138278 143286\n",
      " 101119  75368 141888 146819 141992  61071 109959  50712  93597 148701\n",
      "  57608 135712  79660  89852  83186 113883  71087  91932 146395  31339\n",
      "  63571  84134  32769 104188  48926  36243 120039  89514 120626 126238\n",
      "  85376  74813 138262 143308  83407 111538 112553  83892 103555 146153\n",
      "  40218 102537  83470 132392 131283 102021  74873 129458  70957 109945\n",
      " 102391  56190 145254  61728  44315 132736 106172  36648 132479  72560\n",
      " 126845 137573  77288  83591  40542  34767  90772  65304  42587  75453\n",
      " 110821  32597 139642 103735 135540 144544  52679  64208  45684  36038\n",
      " 118437 148338  81601 147296  86677  41491 126470 140057 117071  77565\n",
      " 115511 132669 101507  91519 120933 127701  86908 109757  70467 143688\n",
      " 147290 135751 122659 149407  54268  77409 119144  58510  62601 125002\n",
      "  52898  31818  94244  46842  82541  32132  70321 109728 133433  60519\n",
      "  43884  80079  66201  30946  64659  96905  32180 129134 149297 109914\n",
      "  34788  53252 114096  62248  53990  65519  41256  43624 121850  47291\n",
      " 106843 119119  91641  32880  57492  91624 119172 119836  70705 129974\n",
      " 141869  68532  36352  34117 102729  95366  51922 133557  87000  91849\n",
      "  61915  70370  58706  56013  97656  52688 118359  40767  49020  42379\n",
      " 126392 132204 143539 109106 105054  88738 101215  84513 123001  73867\n",
      "  85969  32368  87386  81325  84888  59542  83255  71525 136885  98766\n",
      "  91275  40076 121097  85071  37846  79185 120419  59217 104242  70657\n",
      "  70152 110773  79138  35787  64721 103708  56863 117375  71910 106755\n",
      "  65934 131563 147613  75769  67662  58458 116732  60797 135365 116795\n",
      " 135578 141369  80388 118107 122386 104966  43046  81844  85860  72663\n",
      " 124933  69552 134037  83200  52616 122509  72862  91505  40025  87448\n",
      " 114008 148329 106821  55100  92386  71665  86574 120709  51176 112110]\n"
     ]
    }
   ],
   "source": [
    "print(y_test)"
   ]
  },
  {
   "cell_type": "code",
   "execution_count": 16,
   "id": "7abfe6e4",
   "metadata": {},
   "outputs": [],
   "source": [
    "from sklearn.preprocessing import StandardScaler\n",
    "sc = StandardScaler()\n",
    "x_train[:, 3:] = sc.fit_transform(x_train[:, 3:])\n",
    "x_test[:, 3:] = sc.transform(x_test[:, 3:])"
   ]
  },
  {
   "cell_type": "code",
   "execution_count": 17,
   "id": "828e3e9b",
   "metadata": {},
   "outputs": [
    {
     "name": "stdout",
     "output_type": "stream",
     "text": [
      "[[ 0.          0.          0.         ... -0.16012815 -0.14285714\n",
      "  -0.14056247]\n",
      " [ 0.          0.          0.         ... -0.16012815 -0.14285714\n",
      "  -0.14056247]\n",
      " [ 0.          0.          0.         ... -0.16012815 -0.14285714\n",
      "  -0.14056247]\n",
      " ...\n",
      " [ 0.          0.          0.         ... -0.16012815 -0.14285714\n",
      "  -0.14056247]\n",
      " [ 0.          0.          0.         ... -0.16012815 -0.14285714\n",
      "  -0.14056247]\n",
      " [ 0.          0.          0.         ... -0.16012815 -0.14285714\n",
      "  -0.14056247]]\n"
     ]
    }
   ],
   "source": [
    "print(x_train)"
   ]
  },
  {
   "cell_type": "code",
   "execution_count": 18,
   "id": "79db36b2",
   "metadata": {},
   "outputs": [
    {
     "name": "stdout",
     "output_type": "stream",
     "text": [
      "[[ 0.          0.          0.         ... -0.16012815 -0.14285714\n",
      "  -0.14056247]\n",
      " [ 0.          0.          0.         ... -0.16012815 -0.14285714\n",
      "  -0.14056247]\n",
      " [ 0.          0.          0.         ... -0.16012815 -0.14285714\n",
      "  -0.14056247]\n",
      " ...\n",
      " [ 0.          0.          0.         ... -0.16012815 -0.14285714\n",
      "  -0.14056247]\n",
      " [ 0.          1.          0.         ... -0.16012815 -0.14285714\n",
      "  -0.14056247]\n",
      " [ 0.          0.          0.         ... -0.16012815 -0.14285714\n",
      "  -0.14056247]]\n"
     ]
    }
   ],
   "source": [
    "print(x_test)"
   ]
  },
  {
   "cell_type": "code",
   "execution_count": null,
   "id": "d27dd92c",
   "metadata": {},
   "outputs": [],
   "source": []
  }
 ],
 "metadata": {
  "kernelspec": {
   "display_name": "Python 3 (ipykernel)",
   "language": "python",
   "name": "python3"
  },
  "language_info": {
   "codemirror_mode": {
    "name": "ipython",
    "version": 3
   },
   "file_extension": ".py",
   "mimetype": "text/x-python",
   "name": "python",
   "nbconvert_exporter": "python",
   "pygments_lexer": "ipython3",
   "version": "3.9.7"
  }
 },
 "nbformat": 4,
 "nbformat_minor": 5
}
